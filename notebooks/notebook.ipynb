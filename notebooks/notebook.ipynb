{
 "cells": [
  {
   "cell_type": "code",
   "execution_count": 1,
   "metadata": {
    "collapsed": true
   },
   "outputs": [],
   "source": [
    "import pandas as pd\n",
    "import seaborn as sns\n",
    "from nltk.corpus import stopwords\n",
    "from sklearn import metrics\n",
    "from sklearn.model_selection import train_test_split\n",
    "from sklearn.feature_extraction.text import CountVectorizer\n",
    "from sklearn.svm import LinearSVC\n",
    "from sklearn.naive_bayes import MultinomialNB\n",
    "from sklearn.linear_model import LogisticRegression\n",
    "from sklearn.neighbors import KNeighborsClassifier\n",
    "import matplotlib.pyplot as plt\n",
    "from sklearn.metrics import confusion_matrix, ConfusionMatrixDisplay\n",
    "from sklearn import preprocessing\n",
    "from sklearn.preprocessing import MaxAbsScaler"
   ]
  },
  {
   "cell_type": "code",
   "execution_count": 2,
   "outputs": [
    {
     "name": "stdout",
     "output_type": "stream",
     "text": [
      "hello\n"
     ]
    }
   ],
   "source": [
    "print('hello')"
   ],
   "metadata": {
    "collapsed": false,
    "pycharm": {
     "name": "#%%\n"
    }
   }
  },
  {
   "cell_type": "code",
   "execution_count": 3,
   "outputs": [
    {
     "name": "stdout",
     "output_type": "stream",
     "text": [
      "COMMENTAIRE Positif  12500\n",
      "COMMENTAIRE negatif 12500\n"
     ]
    }
   ],
   "source": [
    "positif = pd.read_pickle(r'data/imdb_raw_pos.pickle')\n",
    "negatif = pd.read_pickle(r'data/imdb_raw_neg.pickle')\n",
    "print('COMMENTAIRE Positif ',len(positif))\n",
    "print('COMMENTAIRE negatif', len(negatif))"
   ],
   "metadata": {
    "collapsed": false,
    "pycharm": {
     "name": "#%%\n"
    }
   }
  },
  {
   "cell_type": "code",
   "execution_count": 4,
   "outputs": [],
   "source": [
    "pos = {'Critiques': positif}\n",
    "neg = {'Critiques': negatif}"
   ],
   "metadata": {
    "collapsed": false,
    "pycharm": {
     "name": "#%%\n"
    }
   }
  },
  {
   "cell_type": "code",
   "execution_count": 5,
   "outputs": [],
   "source": [
    "# Creates pandas DataFrame.\n",
    "df1 = pd.DataFrame(pos)\n",
    "df1['Sentiment'] = 'positif'\n",
    "df1['Reponse'] = 1\n",
    "df2 = pd.DataFrame(neg)\n",
    "df2['Sentiment'] = 'Negatif'\n",
    "df2['Reponse'] = 0"
   ],
   "metadata": {
    "collapsed": false,
    "pycharm": {
     "name": "#%%\n"
    }
   }
  },
  {
   "cell_type": "code",
   "execution_count": 6,
   "outputs": [
    {
     "data": {
      "text/plain": "                                               Critiques Sentiment  Reponse\n0      I went and saw this movie last night after bei...   positif        1\n1      Actor turned director Bill Paxton follows up h...   positif        1\n2      As a recreational golfer with some knowledge o...   positif        1\n3      I saw this film in a sneak preview, and it is ...   positif        1\n4      Bill Paxton has taken the true story of the 19...   positif        1\n...                                                  ...       ...      ...\n12495  I occasionally let my kids watch this garbage ...   Negatif        0\n12496  When all we have anymore is pretty much realit...   Negatif        0\n12497  The basic genre is a thriller intercut with an...   Negatif        0\n12498  Four things intrigued me as to this film - fir...   Negatif        0\n12499  David Bryce's comments nearby are exceptionall...   Negatif        0\n\n[25000 rows x 3 columns]",
      "text/html": "<div>\n<style scoped>\n    .dataframe tbody tr th:only-of-type {\n        vertical-align: middle;\n    }\n\n    .dataframe tbody tr th {\n        vertical-align: top;\n    }\n\n    .dataframe thead th {\n        text-align: right;\n    }\n</style>\n<table border=\"1\" class=\"dataframe\">\n  <thead>\n    <tr style=\"text-align: right;\">\n      <th></th>\n      <th>Critiques</th>\n      <th>Sentiment</th>\n      <th>Reponse</th>\n    </tr>\n  </thead>\n  <tbody>\n    <tr>\n      <th>0</th>\n      <td>I went and saw this movie last night after bei...</td>\n      <td>positif</td>\n      <td>1</td>\n    </tr>\n    <tr>\n      <th>1</th>\n      <td>Actor turned director Bill Paxton follows up h...</td>\n      <td>positif</td>\n      <td>1</td>\n    </tr>\n    <tr>\n      <th>2</th>\n      <td>As a recreational golfer with some knowledge o...</td>\n      <td>positif</td>\n      <td>1</td>\n    </tr>\n    <tr>\n      <th>3</th>\n      <td>I saw this film in a sneak preview, and it is ...</td>\n      <td>positif</td>\n      <td>1</td>\n    </tr>\n    <tr>\n      <th>4</th>\n      <td>Bill Paxton has taken the true story of the 19...</td>\n      <td>positif</td>\n      <td>1</td>\n    </tr>\n    <tr>\n      <th>...</th>\n      <td>...</td>\n      <td>...</td>\n      <td>...</td>\n    </tr>\n    <tr>\n      <th>12495</th>\n      <td>I occasionally let my kids watch this garbage ...</td>\n      <td>Negatif</td>\n      <td>0</td>\n    </tr>\n    <tr>\n      <th>12496</th>\n      <td>When all we have anymore is pretty much realit...</td>\n      <td>Negatif</td>\n      <td>0</td>\n    </tr>\n    <tr>\n      <th>12497</th>\n      <td>The basic genre is a thriller intercut with an...</td>\n      <td>Negatif</td>\n      <td>0</td>\n    </tr>\n    <tr>\n      <th>12498</th>\n      <td>Four things intrigued me as to this film - fir...</td>\n      <td>Negatif</td>\n      <td>0</td>\n    </tr>\n    <tr>\n      <th>12499</th>\n      <td>David Bryce's comments nearby are exceptionall...</td>\n      <td>Negatif</td>\n      <td>0</td>\n    </tr>\n  </tbody>\n</table>\n<p>25000 rows × 3 columns</p>\n</div>"
     },
     "execution_count": 6,
     "metadata": {},
     "output_type": "execute_result"
    }
   ],
   "source": [
    "### CONCAT DATA\n",
    "data = pd.concat([df1, df2])\n",
    "data"
   ],
   "metadata": {
    "collapsed": false,
    "pycharm": {
     "name": "#%%\n"
    }
   }
  },
  {
   "cell_type": "code",
   "execution_count": 7,
   "outputs": [
    {
     "data": {
      "text/plain": "<AxesSubplot:xlabel='Reponse', ylabel='count'>"
     },
     "execution_count": 7,
     "metadata": {},
     "output_type": "execute_result"
    },
    {
     "data": {
      "text/plain": "<Figure size 432x288 with 1 Axes>",
      "image/png": "[encoded data removed]"
     },
     "metadata": {
      "needs_background": "light"
     },
     "output_type": "display_data"
    }
   ],
   "source": [
    "sns.countplot(x='Reponse', data=data)"
   ],
   "metadata": {
    "collapsed": false,
    "pycharm": {
     "name": "#%%\n"
    }
   }
  },
  {
   "cell_type": "code",
   "execution_count": 8,
   "outputs": [
    {
     "name": "stdout",
     "output_type": "stream",
     "text": [
      "                                           Critiques Sentiment  Reponse\n",
      "0  The movie is good and I think Tiffany Amber is...   positif        1\n",
      "1  The sequel is exactly what you will expect it ...   positif        1\n",
      "2  From all the bad comments about this movie and...   Negatif        0\n",
      "3  I totally agree that the reenactments kill wha...   Negatif        0\n",
      "4  I'm shocked that all the \"hated it\" ratings ar...   Negatif        0\n",
      "5  Based on an actual story, John Boorman shows t...   positif        1\n",
      "6  If you are a Catalan nationalist anarcho-socia...   Negatif        0\n",
      "7  Pat O'Brien had his best role ever as Notre Da...   positif        1\n",
      "8  This was a crappy, miserably acted movie based...   Negatif        0\n",
      "9  Movie Title - Tart<br /><br />Date of review -...   Negatif        0\n"
     ]
    }
   ],
   "source": [
    "# SHUFFLED DATA\n",
    "shuffled = data.sample(frac=1).reset_index()\n",
    "shuffled = shuffled.drop(['index'], axis=1)\n",
    "print(shuffled.head(10))"
   ],
   "metadata": {
    "collapsed": false,
    "pycharm": {
     "name": "#%%\n"
    }
   }
  },
  {
   "cell_type": "markdown",
   "source": [
    "# PREPROCESSING"
   ],
   "metadata": {
    "collapsed": false,
    "pycharm": {
     "name": "#%% md\n"
    }
   }
  },
  {
   "cell_type": "code",
   "execution_count": 9,
   "outputs": [
    {
     "name": "stderr",
     "output_type": "stream",
     "text": [
      "[nltk_data] Downloading package punkt to\n",
      "[nltk_data]     C:\\Users\\utilisateur\\AppData\\Roaming\\nltk_data...\n",
      "[nltk_data]   Package punkt is already up-to-date!\n",
      "[nltk_data] Downloading package stopwords to\n",
      "[nltk_data]     C:\\Users\\utilisateur\\AppData\\Roaming\\nltk_data...\n",
      "[nltk_data]   Package stopwords is already up-to-date!\n",
      "[nltk_data] Downloading package wordnet to\n",
      "[nltk_data]     C:\\Users\\utilisateur\\AppData\\Roaming\\nltk_data...\n",
      "[nltk_data]   Package wordnet is already up-to-date!\n"
     ]
    }
   ],
   "source": [
    "import string\n",
    "import re\n",
    "import nltk\n",
    "import nltk.corpus\n",
    "nltk.download(\"punkt\")\n",
    "nltk.download(\"stopwords\")\n",
    "nltk.download(\"wordnet\")\n",
    "from nltk.stem import WordNetLemmatizer"
   ],
   "metadata": {
    "collapsed": false,
    "pycharm": {
     "name": "#%%\n"
    }
   }
  },
  {
   "cell_type": "code",
   "execution_count": 10,
   "outputs": [],
   "source": [
    "def Text_Cleaning(Text):\n",
    "  # Lowercase the texts\n",
    "  Text = Text.lower()\n",
    "\n",
    "  # Cleaning punctuations in the text\n",
    "  punc = str.maketrans(string.punctuation, ' '*len(string.punctuation))\n",
    "  Text = Text.translate(punc)\n",
    "\n",
    "  # Removing numbers in the text\n",
    "  Text = re.sub(r'\\d+', '', Text)\n",
    "\n",
    "  # Remove possible links\n",
    "  Text = re.sub('https?://\\S+|www\\.\\S+', '', Text)\n",
    "\n",
    "  # Deleting newlines\n",
    "  Text = re.sub('\\n', '', Text)\n",
    "\n",
    "  return Text"
   ],
   "metadata": {
    "collapsed": false,
    "pycharm": {
     "name": "#%%\n"
    }
   }
  },
  {
   "cell_type": "code",
   "execution_count": 13,
   "outputs": [],
   "source": [
    "# Stopwords\n",
    "Stopwords = set(nltk.corpus.stopwords.words(\"english\")) - set([\"not\"])\n",
    "\n",
    "def Text_Processing(Text):\n",
    "  Processed_Text = list()\n",
    "  Lemmatizer = WordNetLemmatizer()\n",
    "  # Tokens of Words\n",
    "  Tokens = nltk.word_tokenize(Text)\n",
    "  for word in Tokens:\n",
    "    if word not in Stopwords:\n",
    "      Processed_Text.append(Lemmatizer.lemmatize(word))\n",
    "\n",
    "  return(\" \".join(Processed_Text))"
   ],
   "metadata": {
    "collapsed": false,
    "pycharm": {
     "name": "#%%\n"
    }
   }
  },
  {
   "cell_type": "code",
   "execution_count": 14,
   "outputs": [],
   "source": [
    "shuffled[\"Critiques_Clean\"] = shuffled[\"Critiques\"].apply(lambda Text: Text_Cleaning(Text))\n",
    "#shuffled[\"Critiques_Clean\"] = shuffled[\"Critiques\"].apply(lambda Text: Text_Processing(Text))"
   ],
   "metadata": {
    "collapsed": false,
    "pycharm": {
     "name": "#%%\n"
    }
   }
  },
  {
   "cell_type": "code",
   "execution_count": 15,
   "outputs": [
    {
     "data": {
      "text/plain": "                                               Critiques Sentiment  Reponse  \\\n0      The movie is good and I think Tiffany Amber is...   positif        1   \n1      The sequel is exactly what you will expect it ...   positif        1   \n2      From all the bad comments about this movie and...   Negatif        0   \n3      I totally agree that the reenactments kill wha...   Negatif        0   \n4      I'm shocked that all the \"hated it\" ratings ar...   Negatif        0   \n...                                                  ...       ...      ...   \n24995  Gary Cooper, (Michael Brandon) played the role...   positif        1   \n24996  I can't actually think of one good point in th...   Negatif        0   \n24997  This movie has got to be the worse movie i hav...   Negatif        0   \n24998  Taut, topical political thriller, taking squar...   positif        1   \n24999  A young theater actress reluctantly accepts he...   positif        1   \n\n                                         Critiques_Clean  \n0      the movie is good and i think tiffany amber is...  \n1      the sequel is exactly what you will expect it ...  \n2      from all the bad comments about this movie and...  \n3      i totally agree that the reenactments kill wha...  \n4      i m shocked that all the  hated it  ratings ar...  \n...                                                  ...  \n24995  gary cooper   michael brandon  played the role...  \n24996  i can t actually think of one good point in th...  \n24997  this movie has got to be the worse movie i hav...  \n24998  taut  topical political thriller  taking squar...  \n24999  a young theater actress reluctantly accepts he...  \n\n[25000 rows x 4 columns]",
      "text/html": "<div>\n<style scoped>\n    .dataframe tbody tr th:only-of-type {\n        vertical-align: middle;\n    }\n\n    .dataframe tbody tr th {\n        vertical-align: top;\n    }\n\n    .dataframe thead th {\n        text-align: right;\n    }\n</style>\n<table border=\"1\" class=\"dataframe\">\n  <thead>\n    <tr style=\"text-align: right;\">\n      <th></th>\n      <th>Critiques</th>\n      <th>Sentiment</th>\n      <th>Reponse</th>\n      <th>Critiques_Clean</th>\n    </tr>\n  </thead>\n  <tbody>\n    <tr>\n      <th>0</th>\n      <td>The movie is good and I think Tiffany Amber is...</td>\n      <td>positif</td>\n      <td>1</td>\n      <td>the movie is good and i think tiffany amber is...</td>\n    </tr>\n    <tr>\n      <th>1</th>\n      <td>The sequel is exactly what you will expect it ...</td>\n      <td>positif</td>\n      <td>1</td>\n      <td>the sequel is exactly what you will expect it ...</td>\n    </tr>\n    <tr>\n      <th>2</th>\n      <td>From all the bad comments about this movie and...</td>\n      <td>Negatif</td>\n      <td>0</td>\n      <td>from all the bad comments about this movie and...</td>\n    </tr>\n    <tr>\n      <th>3</th>\n      <td>I totally agree that the reenactments kill wha...</td>\n      <td>Negatif</td>\n      <td>0</td>\n      <td>i totally agree that the reenactments kill wha...</td>\n    </tr>\n    <tr>\n      <th>4</th>\n      <td>I'm shocked that all the \"hated it\" ratings ar...</td>\n      <td>Negatif</td>\n      <td>0</td>\n      <td>i m shocked that all the  hated it  ratings ar...</td>\n    </tr>\n    <tr>\n      <th>...</th>\n      <td>...</td>\n      <td>...</td>\n      <td>...</td>\n      <td>...</td>\n    </tr>\n    <tr>\n      <th>24995</th>\n      <td>Gary Cooper, (Michael Brandon) played the role...</td>\n      <td>positif</td>\n      <td>1</td>\n      <td>gary cooper   michael brandon  played the role...</td>\n    </tr>\n    <tr>\n      <th>24996</th>\n      <td>I can't actually think of one good point in th...</td>\n      <td>Negatif</td>\n      <td>0</td>\n      <td>i can t actually think of one good point in th...</td>\n    </tr>\n    <tr>\n      <th>24997</th>\n      <td>This movie has got to be the worse movie i hav...</td>\n      <td>Negatif</td>\n      <td>0</td>\n      <td>this movie has got to be the worse movie i hav...</td>\n    </tr>\n    <tr>\n      <th>24998</th>\n      <td>Taut, topical political thriller, taking squar...</td>\n      <td>positif</td>\n      <td>1</td>\n      <td>taut  topical political thriller  taking squar...</td>\n    </tr>\n    <tr>\n      <th>24999</th>\n      <td>A young theater actress reluctantly accepts he...</td>\n      <td>positif</td>\n      <td>1</td>\n      <td>a young theater actress reluctantly accepts he...</td>\n    </tr>\n  </tbody>\n</table>\n<p>25000 rows × 4 columns</p>\n</div>"
     },
     "execution_count": 15,
     "metadata": {},
     "output_type": "execute_result"
    }
   ],
   "source": [
    "shuffled"
   ],
   "metadata": {
    "collapsed": false,
    "pycharm": {
     "name": "#%%\n"
    }
   }
  },
  {
   "cell_type": "code",
   "execution_count": 15,
   "outputs": [],
   "source": [],
   "metadata": {
    "collapsed": false,
    "pycharm": {
     "name": "#%%\n"
    }
   }
  },
  {
   "cell_type": "code",
   "execution_count": 16,
   "outputs": [
    {
     "data": {
      "text/plain": "                                                Critiques Sentiment  \\\ncount                                               25000     25000   \nunique                                              24801         2   \ntop     Loved today's show!!! It was a variety and not...   Negatif   \nfreq                                                    5     12500   \nmean                                                  NaN       NaN   \nstd                                                   NaN       NaN   \nmin                                                   NaN       NaN   \n25%                                                   NaN       NaN   \n50%                                                   NaN       NaN   \n75%                                                   NaN       NaN   \nmax                                                   NaN       NaN   \n\n            Reponse                                    Critiques_Clean  \ncount   25000.00000                                              25000  \nunique          NaN                                              24800  \ntop             NaN  loved today s show    it was a variety and not...  \nfreq            NaN                                                  5  \nmean        0.50000                                                NaN  \nstd         0.50001                                                NaN  \nmin         0.00000                                                NaN  \n25%         0.00000                                                NaN  \n50%         0.50000                                                NaN  \n75%         1.00000                                                NaN  \nmax         1.00000                                                NaN  ",
      "text/html": "<div>\n<style scoped>\n    .dataframe tbody tr th:only-of-type {\n        vertical-align: middle;\n    }\n\n    .dataframe tbody tr th {\n        vertical-align: top;\n    }\n\n    .dataframe thead th {\n        text-align: right;\n    }\n</style>\n<table border=\"1\" class=\"dataframe\">\n  <thead>\n    <tr style=\"text-align: right;\">\n      <th></th>\n      <th>Critiques</th>\n      <th>Sentiment</th>\n      <th>Reponse</th>\n      <th>Critiques_Clean</th>\n    </tr>\n  </thead>\n  <tbody>\n    <tr>\n      <th>count</th>\n      <td>25000</td>\n      <td>25000</td>\n      <td>25000.00000</td>\n      <td>25000</td>\n    </tr>\n    <tr>\n      <th>unique</th>\n      <td>24801</td>\n      <td>2</td>\n      <td>NaN</td>\n      <td>24800</td>\n    </tr>\n    <tr>\n      <th>top</th>\n      <td>Loved today's show!!! It was a variety and not...</td>\n      <td>Negatif</td>\n      <td>NaN</td>\n      <td>loved today s show    it was a variety and not...</td>\n    </tr>\n    <tr>\n      <th>freq</th>\n      <td>5</td>\n      <td>12500</td>\n      <td>NaN</td>\n      <td>5</td>\n    </tr>\n    <tr>\n      <th>mean</th>\n      <td>NaN</td>\n      <td>NaN</td>\n      <td>0.50000</td>\n      <td>NaN</td>\n    </tr>\n    <tr>\n      <th>std</th>\n      <td>NaN</td>\n      <td>NaN</td>\n      <td>0.50001</td>\n      <td>NaN</td>\n    </tr>\n    <tr>\n      <th>min</th>\n      <td>NaN</td>\n      <td>NaN</td>\n      <td>0.00000</td>\n      <td>NaN</td>\n    </tr>\n    <tr>\n      <th>25%</th>\n      <td>NaN</td>\n      <td>NaN</td>\n      <td>0.00000</td>\n      <td>NaN</td>\n    </tr>\n    <tr>\n      <th>50%</th>\n      <td>NaN</td>\n      <td>NaN</td>\n      <td>0.50000</td>\n      <td>NaN</td>\n    </tr>\n    <tr>\n      <th>75%</th>\n      <td>NaN</td>\n      <td>NaN</td>\n      <td>1.00000</td>\n      <td>NaN</td>\n    </tr>\n    <tr>\n      <th>max</th>\n      <td>NaN</td>\n      <td>NaN</td>\n      <td>1.00000</td>\n      <td>NaN</td>\n    </tr>\n  </tbody>\n</table>\n</div>"
     },
     "execution_count": 16,
     "metadata": {},
     "output_type": "execute_result"
    }
   ],
   "source": [
    "shuffled.describe(include = \"all\")"
   ],
   "metadata": {
    "collapsed": false,
    "pycharm": {
     "name": "#%%\n"
    }
   }
  },
  {
   "cell_type": "code",
   "execution_count": 17,
   "outputs": [],
   "source": [
    "# Text Polarity\n",
    "from textblob import TextBlob"
   ],
   "metadata": {
    "collapsed": false,
    "pycharm": {
     "name": "#%%\n"
    }
   }
  },
  {
   "cell_type": "code",
   "execution_count": 18,
   "outputs": [],
   "source": [
    "#pip install TextBlob"
   ],
   "metadata": {
    "collapsed": false,
    "pycharm": {
     "name": "#%%\n"
    }
   }
  },
  {
   "cell_type": "code",
   "execution_count": 19,
   "outputs": [],
   "source": [
    "shuffled[\"polarity\"] = shuffled[\"Critiques_Clean\"].map(lambda Text: TextBlob(Text).sentiment.polarity)"
   ],
   "metadata": {
    "collapsed": false,
    "pycharm": {
     "name": "#%%\n"
    }
   }
  },
  {
   "cell_type": "code",
   "execution_count": 20,
   "outputs": [
    {
     "data": {
      "text/plain": "<Figure size 720x360 with 1 Axes>",
      "image/png": "[encoded data removed]"
     },
     "metadata": {
      "needs_background": "light"
     },
     "output_type": "display_data"
    }
   ],
   "source": [
    "shuffled[\"polarity\"].plot(kind = \"hist\", bins = 40, edgecolor = \"blue\", linewidth = 1, color = \"orange\", figsize = (10,5))\n",
    "plt.title(\"Polarity Score in Critiques\", color = \"blue\", pad = 20)\n",
    "plt.xlabel(\"Polarity\", labelpad = 15, color = \"red\")\n",
    "plt.ylabel(\"Amount of Critiques\", labelpad = 20, color = \"green\")\n",
    "\n",
    "plt.show()"
   ],
   "metadata": {
    "collapsed": false,
    "pycharm": {
     "name": "#%%\n"
    }
   }
  },
  {
   "cell_type": "code",
   "execution_count": 21,
   "outputs": [],
   "source": [
    "#pip install WordCloud"
   ],
   "metadata": {
    "collapsed": false,
    "pycharm": {
     "name": "#%%\n"
    }
   }
  },
  {
   "cell_type": "code",
   "execution_count": 22,
   "outputs": [],
   "source": [
    "# Word Cloud\n",
    "from wordcloud import WordCloud"
   ],
   "metadata": {
    "collapsed": false,
    "pycharm": {
     "name": "#%%\n"
    }
   }
  },
  {
   "cell_type": "code",
   "execution_count": 23,
   "outputs": [],
   "source": [
    "# Use dropna() so the base DataFrame is not affected\n",
    "Positive = shuffled[shuffled[\"Critiques_Clean\"] == \"Positive\"].dropna()\n",
    "Neutral = shuffled[shuffled[\"Critiques_Clean\"] == \"Neutral\"].dropna()"
   ],
   "metadata": {
    "collapsed": false,
    "pycharm": {
     "name": "#%%\n"
    }
   }
  },
  {
   "cell_type": "code",
   "execution_count": 24,
   "outputs": [
    {
     "data": {
      "text/plain": "<Figure size 1080x1080 with 1 Axes>",
      "image/png": "[encoded data removed]"
     },
     "metadata": {
      "needs_background": "light"
     },
     "output_type": "display_data"
    }
   ],
   "source": [
    "wordCloud = WordCloud(max_words = 50, width = 3000, height = 1500, stopwords = Stopwords).generate(str(Positive[\"Critiques\"]))\n",
    "plt.figure(figsize = (15, 15))\n",
    "plt.imshow(wordCloud, interpolation = \"bilinear\")\n",
    "plt.axis(\"off\")\n",
    "plt.show()"
   ],
   "metadata": {
    "collapsed": false,
    "pycharm": {
     "name": "#%%\n"
    }
   }
  },
  {
   "cell_type": "code",
   "execution_count": 24,
   "outputs": [],
   "source": [],
   "metadata": {
    "collapsed": false,
    "pycharm": {
     "name": "#%%\n"
    }
   }
  },
  {
   "cell_type": "code",
   "execution_count": 25,
   "outputs": [
    {
     "data": {
      "text/plain": "<Figure size 1080x1080 with 1 Axes>",
      "image/png": "[encoded data removed]"
     },
     "metadata": {
      "needs_background": "light"
     },
     "output_type": "display_data"
    }
   ],
   "source": [
    "wordCloud = WordCloud(max_words = 50, width = 3000, height = 1500, stopwords = Stopwords).generate(str(Neutral[\"Critiques\"]))\n",
    "plt.figure(figsize = (15, 15))\n",
    "plt.imshow(wordCloud, interpolation = \"bilinear\")\n",
    "plt.axis(\"off\")\n",
    "plt.show()"
   ],
   "metadata": {
    "collapsed": false,
    "pycharm": {
     "name": "#%%\n"
    }
   }
  },
  {
   "cell_type": "code",
   "execution_count": 26,
   "outputs": [],
   "source": [
    "X = shuffled.Critiques_Clean\n",
    "y = shuffled.Reponse"
   ],
   "metadata": {
    "collapsed": false,
    "pycharm": {
     "name": "#%%\n"
    }
   }
  },
  {
   "cell_type": "code",
   "execution_count": 27,
   "outputs": [
    {
     "data": {
      "text/plain": "0    the movie is good and i think tiffany amber is...\n1    the sequel is exactly what you will expect it ...\nName: Critiques_Clean, dtype: object"
     },
     "execution_count": 27,
     "metadata": {},
     "output_type": "execute_result"
    }
   ],
   "source": [
    "X[:2]"
   ],
   "metadata": {
    "collapsed": false,
    "pycharm": {
     "name": "#%%\n"
    }
   }
  },
  {
   "cell_type": "code",
   "execution_count": 28,
   "outputs": [
    {
     "data": {
      "text/plain": "0    the movie is good and i think tiffany amber is...\n1    the sequel is exactly what you will expect it ...\nName: Critiques_Clean, dtype: object"
     },
     "execution_count": 28,
     "metadata": {},
     "output_type": "execute_result"
    }
   ],
   "source": [
    "X[:2]"
   ],
   "metadata": {
    "collapsed": false,
    "pycharm": {
     "name": "#%%\n"
    }
   }
  },
  {
   "cell_type": "code",
   "execution_count": 29,
   "outputs": [
    {
     "data": {
      "text/plain": "0    1\n1    1\nName: Reponse, dtype: int64"
     },
     "execution_count": 29,
     "metadata": {},
     "output_type": "execute_result"
    }
   ],
   "source": [
    "y[:2]"
   ],
   "metadata": {
    "collapsed": false,
    "pycharm": {
     "name": "#%%\n"
    }
   }
  },
  {
   "cell_type": "markdown",
   "source": [
    "# SPLIT DATA"
   ],
   "metadata": {
    "collapsed": false,
    "pycharm": {
     "name": "#%% md\n"
    }
   }
  },
  {
   "cell_type": "code",
   "execution_count": 30,
   "outputs": [],
   "source": [
    "X_train, X_test, y_train, y_test = train_test_split(X,y,random_state=1, test_size= 0.2)"
   ],
   "metadata": {
    "collapsed": false,
    "pycharm": {
     "name": "#%%\n"
    }
   }
  },
  {
   "cell_type": "code",
   "execution_count": 31,
   "outputs": [
    {
     "name": "stdout",
     "output_type": "stream",
     "text": [
      "longuer de X train : 20000\n",
      "longuer de y train : 20000\n",
      "longuer de X test : 5000\n",
      "longuer de y test : 5000\n"
     ]
    }
   ],
   "source": [
    "print('longuer de X train :', len(X_train))\n",
    "print('longuer de y train :', len(y_train))\n",
    "print('longuer de X test :', len(X_test))\n",
    "print('longuer de y test :', len(y_test))"
   ],
   "metadata": {
    "collapsed": false,
    "pycharm": {
     "name": "#%%\n"
    }
   }
  },
  {
   "cell_type": "markdown",
   "source": [
    "# VECTORISATION"
   ],
   "metadata": {
    "collapsed": false,
    "pycharm": {
     "name": "#%% md\n"
    }
   }
  },
  {
   "cell_type": "code",
   "execution_count": 32,
   "outputs": [],
   "source": [
    "vect = CountVectorizer(stop_words='english', ngram_range = (1,1), max_df = .80, min_df = 4)"
   ],
   "metadata": {
    "collapsed": false,
    "pycharm": {
     "name": "#%%\n"
    }
   }
  },
  {
   "cell_type": "code",
   "execution_count": 33,
   "outputs": [
    {
     "data": {
      "text/plain": "CountVectorizer(max_df=0.8, min_df=4, stop_words='english')"
     },
     "execution_count": 33,
     "metadata": {},
     "output_type": "execute_result"
    }
   ],
   "source": [
    "vect.fit(X_train)"
   ],
   "metadata": {
    "collapsed": false,
    "pycharm": {
     "name": "#%%\n"
    }
   }
  },
  {
   "cell_type": "code",
   "execution_count": 34,
   "outputs": [],
   "source": [
    "X_train_vect = vect.transform(X_train)\n",
    "X_test_vect = vect.transform(X_test)"
   ],
   "metadata": {
    "collapsed": false,
    "pycharm": {
     "name": "#%%\n"
    }
   }
  },
  {
   "cell_type": "code",
   "execution_count": 35,
   "outputs": [
    {
     "data": {
      "text/plain": "<20000x26473 sparse matrix of type '<class 'numpy.int64'>'\n\twith 1673065 stored elements in Compressed Sparse Row format>"
     },
     "execution_count": 35,
     "metadata": {},
     "output_type": "execute_result"
    }
   ],
   "source": [
    "X_train_vect"
   ],
   "metadata": {
    "collapsed": false,
    "pycharm": {
     "name": "#%%\n"
    }
   }
  },
  {
   "cell_type": "markdown",
   "source": [
    "## SCALER DATA"
   ],
   "metadata": {
    "collapsed": false,
    "pycharm": {
     "name": "#%% md\n"
    }
   }
  },
  {
   "cell_type": "code",
   "execution_count": 45,
   "outputs": [],
   "source": [
    "transformer = MaxAbsScaler().fit(X_train_vect)\n",
    "transformer_Xtrain = transformer.transform(X_train_vect)"
   ],
   "metadata": {
    "collapsed": false,
    "pycharm": {
     "name": "#%%\n"
    }
   }
  },
  {
   "cell_type": "code",
   "execution_count": 51,
   "outputs": [],
   "source": [
    "transformer_Xtest = transformer.transform(X_test_vect)"
   ],
   "metadata": {
    "collapsed": false,
    "pycharm": {
     "name": "#%%\n"
    }
   }
  },
  {
   "cell_type": "markdown",
   "source": [
    "# Model Selection and Evaluation"
   ],
   "metadata": {
    "collapsed": false,
    "pycharm": {
     "name": "#%% md\n"
    }
   }
  },
  {
   "cell_type": "code",
   "execution_count": 36,
   "outputs": [],
   "source": [
    "# Model Building\n",
    "from sklearn.svm import SVC\n",
    "from sklearn.tree import DecisionTreeClassifier\n",
    "from sklearn.linear_model import LogisticRegression\n",
    "from sklearn.ensemble import RandomForestClassifier\n",
    "from sklearn.naive_bayes import BernoulliNB\n",
    "from sklearn.neighbors import KNeighborsClassifier\n",
    "from sklearn.model_selection import cross_val_score\n",
    "from sklearn.model_selection import GridSearchCV\n",
    "from sklearn.metrics import confusion_matrix, accuracy_score, classification_report\n",
    "import joblib"
   ],
   "metadata": {
    "collapsed": false,
    "pycharm": {
     "name": "#%%\n"
    }
   }
  },
  {
   "cell_type": "code",
   "execution_count": 37,
   "outputs": [],
   "source": [
    "DTree = DecisionTreeClassifier()\n",
    "LogReg = LogisticRegression()\n",
    "SVC = SVC()\n",
    "RForest = RandomForestClassifier()\n",
    "Bayes = BernoulliNB()\n",
    "KNN = KNeighborsClassifier()"
   ],
   "metadata": {
    "collapsed": false,
    "pycharm": {
     "name": "#%%\n"
    }
   }
  },
  {
   "cell_type": "code",
   "execution_count": 57,
   "outputs": [
    {
     "name": "stdout",
     "output_type": "stream",
     "text": [
      "Training model  Decision_Tree\n",
      "---------------------------------------\n",
      "Decision_Tree Test Accuracy: 0.72715\n",
      "model  Decision_Tree  Enregistré\n",
      "---------------------------------------\n",
      "Training model  Logistic_Regression\n",
      "---------------------------------------\n",
      "Logistic_Regression Test Accuracy: 0.8886\n",
      "model  Logistic_Regression  Enregistré\n",
      "---------------------------------------\n",
      "Training model  Random_Forest\n",
      "---------------------------------------\n",
      "Random_Forest Test Accuracy: 0.8540000000000001\n",
      "model  Random_Forest  Enregistré\n",
      "---------------------------------------\n",
      "Training model  Naive_Bayes\n",
      "---------------------------------------\n",
      "Naive_Bayes Test Accuracy: 0.8561500000000001\n",
      "model  Naive_Bayes  Enregistré\n",
      "---------------------------------------\n",
      "Training model  K-Neighbors\n",
      "---------------------------------------\n",
      "K-Neighbors Test Accuracy: 0.6037\n",
      "model  K-Neighbors  Enregistré\n",
      "---------------------------------------\n"
     ]
    }
   ],
   "source": [
    "#Models = [DTree, LogReg, SVC, RForest, Bayes, KNN]\n",
    "Models = [DTree, LogReg, RForest, Bayes, KNN]\n",
    "#Models_Dict = {0: \"Decision_Tree\", 1: \"Logistic_Regression\", 2: \"SVC\", 3: \"Random_Forest\", 4: \"Naive_Bayes\", 5: \"K-Neighbors\"}\n",
    "Models_Dict = {0: \"Decision_Tree\", 1: \"Logistic_Regression\", 2: \"Random_Forest\", 3: \"Naive_Bayes\", 4: \"K-Neighbors\"}\n",
    "\n",
    "for i, model in enumerate(Models):\n",
    "  print('Training model ', Models_Dict[i])\n",
    "  print('---------------------------------------')\n",
    "  #save model\n",
    "  print(\"{} Test Accuracy: {}\".format(Models_Dict[i], cross_val_score(model, transformer_Xtrain, y_train, cv = 10, scoring = \"accuracy\").mean()))\n",
    "  joblib.dump(model, Models_Dict[i]+'.model')\n",
    "  print('model ', Models_Dict[i] ,' Enregistré')\n",
    "  print('---------------------------------------')"
   ],
   "metadata": {
    "collapsed": false,
    "pycharm": {
     "name": "#%%\n"
    }
   }
  },
  {
   "cell_type": "markdown",
   "source": [],
   "metadata": {
    "collapsed": false,
    "pycharm": {
     "name": "#%% md\n"
    }
   }
  },
  {
   "cell_type": "markdown",
   "source": [
    "# Hyperparameter With GridSearch"
   ],
   "metadata": {
    "collapsed": false,
    "pycharm": {
     "name": "#%% md\n"
    }
   }
  },
  {
   "cell_type": "code",
   "execution_count": 47,
   "outputs": [
    {
     "name": "stderr",
     "output_type": "stream",
     "text": [
      "c:\\python38\\lib\\site-packages\\sklearn\\model_selection\\_search.py:918: UserWarning: One or more of the test scores are non-finite: [    nan 0.7155      nan 0.76395     nan 0.7958      nan 0.81695     nan\n",
      " 0.8273      nan 0.8359      nan 0.8424      nan 0.8464      nan 0.8509\n",
      "     nan 0.85525     nan 0.8598      nan 0.8644      nan 0.8686      nan\n",
      " 0.8743      nan 0.8789      nan 0.88215     nan 0.88475     nan 0.8868\n",
      "     nan 0.88815     nan 0.8894      nan 0.89055     nan 0.8906      nan\n",
      " 0.89085     nan 0.89035     nan 0.88875     nan 0.8877      nan 0.88545\n",
      "     nan 0.88415     nan 0.8837      nan 0.88185     nan 0.8803      nan\n",
      " 0.878       nan 0.8765      nan 0.8756      nan 0.874       nan 0.87335\n",
      "     nan 0.87215     nan 0.87145     nan 0.87075     nan 0.87005     nan\n",
      " 0.8696      nan 0.86885     nan 0.86795     nan 0.86665     nan 0.86625\n",
      "     nan 0.8663      nan 0.86585     nan 0.86555     nan 0.86545     nan\n",
      " 0.86445]\n",
      "  warnings.warn(\n"
     ]
    },
    {
     "name": "stdout",
     "output_type": "stream",
     "text": [
      "Best Accuracy: 89.09 %\n",
      "Best Parameters: {'C': 0.3906939937054613, 'penalty': 'l2'}\n"
     ]
    }
   ],
   "source": [
    "import numpy as np\n",
    "Param = {\"C\": np.logspace(-4, 4, 50), \"penalty\": ['l1', 'l2']}\n",
    "grid_search = GridSearchCV(estimator = LogisticRegression(random_state = 42), param_grid = Param, scoring = \"accuracy\", cv = 10, verbose = 0, n_jobs = -1)\n",
    "\n",
    "grid_search.fit(transformer_Xtrain, y_train)\n",
    "best_accuracy = grid_search.best_score_\n",
    "best_parameters = grid_search.best_params_\n",
    "\n",
    "print(\"Best Accuracy: {:.2f} %\".format(best_accuracy*100))\n",
    "print(\"Best Parameters:\", best_parameters)"
   ],
   "metadata": {
    "collapsed": false,
    "pycharm": {
     "name": "#%%\n"
    }
   }
  },
  {
   "cell_type": "markdown",
   "source": [
    "# BEST MODEL"
   ],
   "metadata": {
    "collapsed": false,
    "pycharm": {
     "name": "#%% md\n"
    }
   }
  },
  {
   "cell_type": "code",
   "execution_count": 58,
   "outputs": [
    {
     "name": "stdout",
     "output_type": "stream",
     "text": [
      "model saved\n"
     ]
    },
    {
     "data": {
      "text/plain": "['LG.model']"
     },
     "execution_count": 58,
     "metadata": {},
     "output_type": "execute_result"
    }
   ],
   "source": [
    "Classifier = LogisticRegression(random_state = 0, C = 0.3906939937054613, penalty = 'l2')\n",
    "Classifier.fit(transformer_Xtrain, y_train)\n",
    "print('model saved')\n",
    "joblib.dump(Classifier, 'LG.model')"
   ],
   "metadata": {
    "collapsed": false,
    "pycharm": {
     "name": "#%%\n"
    }
   }
  },
  {
   "cell_type": "markdown",
   "source": [
    "# EVALUATION MODEL LOGISTIQUE REGRESION"
   ],
   "metadata": {
    "collapsed": false,
    "pycharm": {
     "name": "#%% md\n"
    }
   }
  },
  {
   "cell_type": "code",
   "execution_count": 52,
   "outputs": [],
   "source": [
    "Prediction = Classifier.predict(transformer_Xtest)"
   ],
   "metadata": {
    "collapsed": false,
    "pycharm": {
     "name": "#%%\n"
    }
   }
  },
  {
   "cell_type": "code",
   "execution_count": 55,
   "outputs": [
    {
     "data": {
      "text/plain": "<Figure size 432x288 with 2 Axes>",
      "image/png": "[encoded data removed]"
     },
     "metadata": {
      "needs_background": "light"
     },
     "output_type": "display_data"
    }
   ],
   "source": [
    "cm = confusion_matrix(y_test, Prediction)\n",
    "disp = ConfusionMatrixDisplay(confusion_matrix=cm, display_labels=['Positif', 'Negatif'])\n",
    "disp.plot()\n",
    "plt.show()"
   ],
   "metadata": {
    "collapsed": false,
    "pycharm": {
     "name": "#%%\n"
    }
   }
  },
  {
   "cell_type": "markdown",
   "source": [
    "# METHODE 2 : ENTRAINEMENT DES MODELES"
   ],
   "metadata": {
    "collapsed": false,
    "pycharm": {
     "name": "#%% md\n"
    }
   }
  },
  {
   "cell_type": "markdown",
   "source": [
    "# FIRST MODEL (MultinomialNB=)"
   ],
   "metadata": {
    "collapsed": false,
    "pycharm": {
     "name": "#%% md\n"
    }
   }
  },
  {
   "cell_type": "markdown",
   "source": [
    "### Create model MultinomialNB"
   ],
   "metadata": {
    "collapsed": false,
    "pycharm": {
     "name": "#%% md\n"
    }
   }
  },
  {
   "cell_type": "code",
   "execution_count": 75,
   "outputs": [],
   "source": [
    "NB = MultinomialNB()"
   ],
   "metadata": {
    "collapsed": false,
    "pycharm": {
     "name": "#%%\n"
    }
   }
  },
  {
   "cell_type": "code",
   "execution_count": 76,
   "outputs": [
    {
     "data": {
      "text/plain": "MultinomialNB()"
     },
     "execution_count": 76,
     "metadata": {},
     "output_type": "execute_result"
    }
   ],
   "source": [
    "NB.fit(X_train_vect, y_train)"
   ],
   "metadata": {
    "collapsed": false,
    "pycharm": {
     "name": "#%%\n"
    }
   }
  },
  {
   "cell_type": "markdown",
   "source": [
    "### Save model"
   ],
   "metadata": {
    "collapsed": false,
    "pycharm": {
     "name": "#%% md\n"
    }
   }
  },
  {
   "cell_type": "code",
   "execution_count": 39,
   "outputs": [],
   "source": [
    "import joblib"
   ],
   "metadata": {
    "collapsed": false,
    "pycharm": {
     "name": "#%%\n"
    }
   }
  },
  {
   "cell_type": "code",
   "execution_count": 78,
   "outputs": [
    {
     "data": {
      "text/plain": "['NB.model']"
     },
     "execution_count": 78,
     "metadata": {},
     "output_type": "execute_result"
    }
   ],
   "source": [
    "import joblib\n",
    "#save model\n",
    "joblib.dump(NB, 'NB.model')\n"
   ],
   "metadata": {
    "collapsed": false,
    "pycharm": {
     "name": "#%%\n"
    }
   }
  },
  {
   "cell_type": "code",
   "execution_count": 79,
   "outputs": [],
   "source": [
    "\n",
    "#load saved model\n",
    "NB_Load = joblib.load('NB.model')"
   ],
   "metadata": {
    "collapsed": false,
    "pycharm": {
     "name": "#%%\n"
    }
   }
  },
  {
   "cell_type": "code",
   "execution_count": 80,
   "outputs": [],
   "source": [
    "y_pred_load = NB_Load.predict(X_test_vect)"
   ],
   "metadata": {
    "collapsed": false,
    "pycharm": {
     "name": "#%%\n"
    }
   }
  },
  {
   "cell_type": "code",
   "execution_count": 81,
   "outputs": [
    {
     "name": "stdout",
     "output_type": "stream",
     "text": [
      "\n",
      "Naive Bayes\n",
      "Accuracy Score: 86.64%\n"
     ]
    }
   ],
   "source": [
    "print('\\nNaive Bayes')\n",
    "print('Accuracy Score: ',metrics.accuracy_score(y_test,y_pred_load)*100,'%',sep='')"
   ],
   "metadata": {
    "collapsed": false,
    "pycharm": {
     "name": "#%%\n"
    }
   }
  },
  {
   "cell_type": "code",
   "execution_count": 82,
   "outputs": [],
   "source": [
    "y_pred1 = NB.predict(X_test_vect)"
   ],
   "metadata": {
    "collapsed": false,
    "pycharm": {
     "name": "#%%\n"
    }
   }
  },
  {
   "cell_type": "code",
   "execution_count": 83,
   "outputs": [
    {
     "name": "stdout",
     "output_type": "stream",
     "text": [
      "\n",
      "Naive Bayes\n",
      "Accuracy Score: 86.64%\n"
     ]
    }
   ],
   "source": [
    "print('\\nNaive Bayes')\n",
    "print('Accuracy Score: ',metrics.accuracy_score(y_test,y_pred1)*100,'%',sep='')"
   ],
   "metadata": {
    "collapsed": false,
    "pycharm": {
     "name": "#%%\n"
    }
   }
  },
  {
   "cell_type": "code",
   "execution_count": 84,
   "outputs": [
    {
     "name": "stdout",
     "output_type": "stream",
     "text": [
      "Confusion Matrix: \n",
      "[[2237  278]\n",
      " [ 390 2095]]\n"
     ]
    }
   ],
   "source": [
    "print('Confusion Matrix: ',metrics.confusion_matrix(y_test,y_pred1), sep = '\\n')"
   ],
   "metadata": {
    "collapsed": false,
    "pycharm": {
     "name": "#%%\n"
    }
   }
  },
  {
   "cell_type": "code",
   "execution_count": 85,
   "outputs": [
    {
     "data": {
      "text/plain": "<Figure size 432x288 with 2 Axes>",
      "image/png": "[encoded data removed]"
     },
     "metadata": {
      "needs_background": "light"
     },
     "output_type": "display_data"
    }
   ],
   "source": [
    "cm = confusion_matrix(y_test, y_pred1)\n",
    "disp = ConfusionMatrixDisplay(confusion_matrix=cm, display_labels=['Positif', 'Negatif'])\n",
    "disp.plot()\n",
    "plt.show()"
   ],
   "metadata": {
    "collapsed": false,
    "pycharm": {
     "name": "#%%\n"
    }
   }
  },
  {
   "cell_type": "code",
   "execution_count": 27,
   "outputs": [],
   "source": [],
   "metadata": {
    "collapsed": false,
    "pycharm": {
     "name": "#%%\n"
    }
   }
  },
  {
   "cell_type": "markdown",
   "source": [
    "# SECOND MODEL LogisticRegression"
   ],
   "metadata": {
    "collapsed": false,
    "pycharm": {
     "name": "#%% md\n"
    }
   }
  },
  {
   "cell_type": "code",
   "execution_count": 44,
   "outputs": [],
   "source": [
    "from sklearn import preprocessing\n",
    "from sklearn.preprocessing import MaxAbsScaler"
   ],
   "metadata": {
    "collapsed": false,
    "pycharm": {
     "name": "#%%\n"
    }
   }
  },
  {
   "cell_type": "markdown",
   "source": [
    "### Create model"
   ],
   "metadata": {
    "collapsed": false,
    "pycharm": {
     "name": "#%% md\n"
    }
   }
  },
  {
   "cell_type": "markdown",
   "source": [
    "#### Scale the data or Transform data"
   ],
   "metadata": {
    "collapsed": false,
    "pycharm": {
     "name": "#%% md\n"
    }
   }
  },
  {
   "cell_type": "code",
   "execution_count": 87,
   "outputs": [],
   "source": [
    "transformer = MaxAbsScaler().fit(X_train_vect)"
   ],
   "metadata": {
    "collapsed": false,
    "pycharm": {
     "name": "#%%\n"
    }
   }
  },
  {
   "cell_type": "code",
   "execution_count": 88,
   "outputs": [],
   "source": [
    "transformer_Xtrain = transformer.transform(X_train_vect)"
   ],
   "metadata": {
    "collapsed": false,
    "pycharm": {
     "name": "#%%\n"
    }
   }
  },
  {
   "cell_type": "code",
   "execution_count": 89,
   "outputs": [
    {
     "data": {
      "text/plain": "<20000x26910 sparse matrix of type '<class 'numpy.float64'>'\n\twith 1698436 stored elements in Compressed Sparse Row format>"
     },
     "execution_count": 89,
     "metadata": {},
     "output_type": "execute_result"
    }
   ],
   "source": [
    "transformer_Xtrain"
   ],
   "metadata": {
    "collapsed": false,
    "pycharm": {
     "name": "#%%\n"
    }
   }
  },
  {
   "cell_type": "code",
   "execution_count": 90,
   "outputs": [
    {
     "data": {
      "text/plain": "LogisticRegression()"
     },
     "execution_count": 90,
     "metadata": {},
     "output_type": "execute_result"
    }
   ],
   "source": [
    "#Accuracy using Logistic Regression Model\n",
    "LR = LogisticRegression()\n",
    "LR"
   ],
   "metadata": {
    "collapsed": false,
    "pycharm": {
     "name": "#%%\n"
    }
   }
  },
  {
   "cell_type": "code",
   "execution_count": 91,
   "outputs": [
    {
     "data": {
      "text/plain": "LogisticRegression()"
     },
     "execution_count": 91,
     "metadata": {},
     "output_type": "execute_result"
    }
   ],
   "source": [
    "LR.fit(transformer_Xtrain, y_train)"
   ],
   "metadata": {
    "collapsed": false,
    "pycharm": {
     "name": "#%%\n"
    }
   }
  },
  {
   "cell_type": "code",
   "execution_count": 91,
   "outputs": [],
   "source": [],
   "metadata": {
    "collapsed": false,
    "pycharm": {
     "name": "#%%\n"
    }
   }
  },
  {
   "cell_type": "code",
   "execution_count": 92,
   "outputs": [],
   "source": [
    "y_pred2 = LR.predict(X_test_vect)"
   ],
   "metadata": {
    "collapsed": false,
    "pycharm": {
     "name": "#%%\n"
    }
   }
  },
  {
   "cell_type": "code",
   "execution_count": 93,
   "outputs": [
    {
     "name": "stdout",
     "output_type": "stream",
     "text": [
      "\n",
      "Logistic Regression\n",
      "Accuracy Score: 86.53999999999999%\n"
     ]
    }
   ],
   "source": [
    "print('\\nLogistic Regression')\n",
    "print('Accuracy Score: ',metrics.accuracy_score(y_test,y_pred2)*100,'%',sep='')"
   ],
   "metadata": {
    "collapsed": false,
    "pycharm": {
     "name": "#%%\n"
    }
   }
  },
  {
   "cell_type": "markdown",
   "source": [
    "### CONFUSION MATRIX"
   ],
   "metadata": {
    "collapsed": false,
    "pycharm": {
     "name": "#%% md\n"
    }
   }
  },
  {
   "cell_type": "code",
   "execution_count": 94,
   "outputs": [
    {
     "name": "stdout",
     "output_type": "stream",
     "text": [
      "Confusion Matrix: \n",
      "[[2231  284]\n",
      " [ 389 2096]]\n"
     ]
    }
   ],
   "source": [
    "print('Confusion Matrix: ',metrics.confusion_matrix(y_test,y_pred2), sep = '\\n')"
   ],
   "metadata": {
    "collapsed": false,
    "pycharm": {
     "name": "#%%\n"
    }
   }
  },
  {
   "cell_type": "code",
   "execution_count": 95,
   "outputs": [
    {
     "data": {
      "text/plain": "<Figure size 432x288 with 2 Axes>",
      "image/png": "[encoded data removed]"
     },
     "metadata": {
      "needs_background": "light"
     },
     "output_type": "display_data"
    }
   ],
   "source": [
    "cm = confusion_matrix(y_test, y_pred2)\n",
    "disp = ConfusionMatrixDisplay(confusion_matrix=cm, display_labels=['Positif', 'Negatif'])\n",
    "disp.plot()\n",
    "plt.show()"
   ],
   "metadata": {
    "collapsed": false,
    "pycharm": {
     "name": "#%%\n"
    }
   }
  },
  {
   "cell_type": "markdown",
   "source": [
    "# 3rd MODEL"
   ],
   "metadata": {
    "collapsed": false,
    "pycharm": {
     "name": "#%% md\n"
    }
   }
  },
  {
   "cell_type": "markdown",
   "source": [
    "### Create Model SVM"
   ],
   "metadata": {
    "collapsed": false,
    "pycharm": {
     "name": "#%% md\n"
    }
   }
  },
  {
   "cell_type": "code",
   "execution_count": 96,
   "outputs": [],
   "source": [
    "SVM = LinearSVC()"
   ],
   "metadata": {
    "collapsed": false,
    "pycharm": {
     "name": "#%%\n"
    }
   }
  },
  {
   "cell_type": "markdown",
   "source": [
    "### FIT MODEL"
   ],
   "metadata": {
    "collapsed": false,
    "pycharm": {
     "name": "#%% md\n"
    }
   }
  },
  {
   "cell_type": "code",
   "execution_count": 97,
   "outputs": [
    {
     "data": {
      "text/plain": "LinearSVC()"
     },
     "execution_count": 97,
     "metadata": {},
     "output_type": "execute_result"
    }
   ],
   "source": [
    "SVM.fit(transformer_Xtrain, y_train)"
   ],
   "metadata": {
    "collapsed": false,
    "pycharm": {
     "name": "#%%\n"
    }
   }
  },
  {
   "cell_type": "markdown",
   "source": [
    "### Predict model"
   ],
   "metadata": {
    "collapsed": false,
    "pycharm": {
     "name": "#%% md\n"
    }
   }
  },
  {
   "cell_type": "code",
   "execution_count": 98,
   "outputs": [],
   "source": [
    "y_pred3 = SVM.predict(X_test_vect)"
   ],
   "metadata": {
    "collapsed": false,
    "pycharm": {
     "name": "#%%\n"
    }
   }
  },
  {
   "cell_type": "code",
   "execution_count": 99,
   "outputs": [
    {
     "name": "stdout",
     "output_type": "stream",
     "text": [
      "\n",
      "Support Vector Machine\n",
      "Accuracy Score: 86.56%\n"
     ]
    }
   ],
   "source": [
    "print('\\nSupport Vector Machine')\n",
    "print('Accuracy Score: ',metrics.accuracy_score(y_test,y_pred3)*100,'%',sep='')"
   ],
   "metadata": {
    "collapsed": false,
    "pycharm": {
     "name": "#%%\n"
    }
   }
  },
  {
   "cell_type": "markdown",
   "source": [
    "### Confusion matrix"
   ],
   "metadata": {
    "collapsed": false,
    "pycharm": {
     "name": "#%% md\n"
    }
   }
  },
  {
   "cell_type": "code",
   "execution_count": 67,
   "outputs": [
    {
     "name": "stdout",
     "output_type": "stream",
     "text": [
      "Confusion Matrix: \n",
      "[[2180  348]\n",
      " [ 323 2149]]\n"
     ]
    }
   ],
   "source": [
    "print('Confusion Matrix: ',metrics.confusion_matrix(y_test,y_pred3), sep = '\\n')"
   ],
   "metadata": {
    "collapsed": false,
    "pycharm": {
     "name": "#%%\n"
    }
   }
  },
  {
   "cell_type": "code",
   "execution_count": 68,
   "outputs": [
    {
     "data": {
      "text/plain": "<Figure size 432x288 with 2 Axes>",
      "image/png": "[encoded data removed]"
     },
     "metadata": {
      "needs_background": "light"
     },
     "output_type": "display_data"
    }
   ],
   "source": [
    "cm = confusion_matrix(y_test, y_pred3)\n",
    "disp = ConfusionMatrixDisplay(confusion_matrix=cm, display_labels=['Positif', 'Negatif'])\n",
    "disp.plot()\n",
    "plt.show()"
   ],
   "metadata": {
    "collapsed": false,
    "pycharm": {
     "name": "#%%\n"
    }
   }
  },
  {
   "cell_type": "code",
   "execution_count": 68,
   "outputs": [],
   "source": [],
   "metadata": {
    "collapsed": false,
    "pycharm": {
     "name": "#%%\n"
    }
   }
  },
  {
   "cell_type": "markdown",
   "source": [
    "# 4rd MODEL KNN"
   ],
   "metadata": {
    "collapsed": false,
    "pycharm": {
     "name": "#%% md\n"
    }
   }
  },
  {
   "cell_type": "markdown",
   "source": [
    "### Create model"
   ],
   "metadata": {
    "collapsed": false,
    "pycharm": {
     "name": "#%% md\n"
    }
   }
  },
  {
   "cell_type": "code",
   "execution_count": 69,
   "outputs": [],
   "source": [
    "KNN = KNeighborsClassifier(n_neighbors = 2)"
   ],
   "metadata": {
    "collapsed": false,
    "pycharm": {
     "name": "#%%\n"
    }
   }
  },
  {
   "cell_type": "markdown",
   "source": [
    "### Fit model\n"
   ],
   "metadata": {
    "collapsed": false,
    "pycharm": {
     "name": "#%% md\n"
    }
   }
  },
  {
   "cell_type": "code",
   "execution_count": 70,
   "outputs": [
    {
     "data": {
      "text/plain": "KNeighborsClassifier(n_neighbors=2)"
     },
     "execution_count": 70,
     "metadata": {},
     "output_type": "execute_result"
    }
   ],
   "source": [
    "KNN.fit(X_train_vect, y_train)"
   ],
   "metadata": {
    "collapsed": false,
    "pycharm": {
     "name": "#%%\n"
    }
   }
  },
  {
   "cell_type": "markdown",
   "source": [
    "### Predict model"
   ],
   "metadata": {
    "collapsed": false,
    "pycharm": {
     "name": "#%% md\n"
    }
   }
  },
  {
   "cell_type": "code",
   "execution_count": 71,
   "outputs": [],
   "source": [
    "y_pred4 = KNN.predict(X_test_vect)"
   ],
   "metadata": {
    "collapsed": false,
    "pycharm": {
     "name": "#%%\n"
    }
   }
  },
  {
   "cell_type": "code",
   "execution_count": 72,
   "outputs": [
    {
     "name": "stdout",
     "output_type": "stream",
     "text": [
      "\n",
      "K Nearest Neighbors (NN = 3)\n",
      "Accuracy Score: 57.620000000000005%\n"
     ]
    }
   ],
   "source": [
    "print('\\nK Nearest Neighbors (NN = 3)')\n",
    "print('Accuracy Score: ',metrics.accuracy_score(y_test,y_pred4)*100,'%',sep='')"
   ],
   "metadata": {
    "collapsed": false,
    "pycharm": {
     "name": "#%%\n"
    }
   }
  },
  {
   "cell_type": "markdown",
   "source": [
    "### Confusion matrix"
   ],
   "metadata": {
    "collapsed": false,
    "pycharm": {
     "name": "#%% md\n"
    }
   }
  },
  {
   "cell_type": "code",
   "execution_count": 73,
   "outputs": [
    {
     "name": "stdout",
     "output_type": "stream",
     "text": [
      "Confusion Matrix: \n",
      "[[2269  259]\n",
      " [1860  612]]\n"
     ]
    }
   ],
   "source": [
    "print('Confusion Matrix: ',metrics.confusion_matrix(y_test,y_pred4), sep = '\\n')"
   ],
   "metadata": {
    "collapsed": false,
    "pycharm": {
     "name": "#%%\n"
    }
   }
  },
  {
   "cell_type": "code",
   "execution_count": 74,
   "outputs": [
    {
     "data": {
      "text/plain": "<Figure size 432x288 with 2 Axes>",
      "image/png": "[encoded data removed]"
     },
     "metadata": {
      "needs_background": "light"
     },
     "output_type": "display_data"
    }
   ],
   "source": [
    "cm = confusion_matrix(y_test, y_pred4)\n",
    "disp = ConfusionMatrixDisplay(confusion_matrix=cm, display_labels=['Positif', 'Negatif'])\n",
    "disp.plot()\n",
    "plt.show()"
   ],
   "metadata": {
    "collapsed": false,
    "pycharm": {
     "name": "#%%\n"
    }
   }
  },
  {
   "cell_type": "markdown",
   "source": [
    "## KNN with Data transform"
   ],
   "metadata": {
    "collapsed": false,
    "pycharm": {
     "name": "#%% md\n"
    }
   }
  },
  {
   "cell_type": "code",
   "execution_count": 75,
   "outputs": [],
   "source": [
    "KNN2 = KNeighborsClassifier(n_neighbors = 2)"
   ],
   "metadata": {
    "collapsed": false,
    "pycharm": {
     "name": "#%%\n"
    }
   }
  },
  {
   "cell_type": "code",
   "execution_count": 76,
   "outputs": [
    {
     "data": {
      "text/plain": "KNeighborsClassifier(n_neighbors=2)"
     },
     "execution_count": 76,
     "metadata": {},
     "output_type": "execute_result"
    }
   ],
   "source": [
    "KNN2.fit(transformer_Xtrain, y_train)"
   ],
   "metadata": {
    "collapsed": false,
    "pycharm": {
     "name": "#%%\n"
    }
   }
  },
  {
   "cell_type": "code",
   "execution_count": 77,
   "outputs": [],
   "source": [
    "y_pred4_ = KNN2.predict(X_test_vect)"
   ],
   "metadata": {
    "collapsed": false,
    "pycharm": {
     "name": "#%%\n"
    }
   }
  },
  {
   "cell_type": "code",
   "execution_count": 78,
   "outputs": [
    {
     "name": "stdout",
     "output_type": "stream",
     "text": [
      "\n",
      "K Nearest Neighbors (NN = 3)\n",
      "Accuracy Score: 71.48%\n"
     ]
    }
   ],
   "source": [
    "print('\\nK Nearest Neighbors (NN = 3)')\n",
    "print('Accuracy Score: ',metrics.accuracy_score(y_test,y_pred4_)*100,'%',sep='')"
   ],
   "metadata": {
    "collapsed": false,
    "pycharm": {
     "name": "#%%\n"
    }
   }
  },
  {
   "cell_type": "code",
   "execution_count": 79,
   "outputs": [
    {
     "name": "stdout",
     "output_type": "stream",
     "text": [
      "Confusion Matrix: \n",
      "[[2144  384]\n",
      " [1042 1430]]\n"
     ]
    }
   ],
   "source": [
    "print('Confusion Matrix: ',metrics.confusion_matrix(y_test,y_pred4_), sep = '\\n')"
   ],
   "metadata": {
    "collapsed": false,
    "pycharm": {
     "name": "#%%\n"
    }
   }
  },
  {
   "cell_type": "code",
   "execution_count": 79,
   "outputs": [],
   "source": [],
   "metadata": {
    "collapsed": false,
    "pycharm": {
     "name": "#%%\n"
    }
   }
  },
  {
   "cell_type": "code",
   "execution_count": 80,
   "outputs": [],
   "source": [
    "KNN_scor = metrics.accuracy_score(y_test,y_pred4)*100\n",
    "KNN_transform = metrics.accuracy_score(y_test,y_pred4_)*100\n",
    "SVM_scor = metrics.accuracy_score(y_test,y_pred3)*100\n",
    "LG_scor = metrics.accuracy_score(y_test,y_pred2)*100\n",
    "NB_sco = metrics.accuracy_score(y_test,y_pred1)*100"
   ],
   "metadata": {
    "collapsed": false,
    "pycharm": {
     "name": "#%%\n"
    }
   }
  },
  {
   "cell_type": "code",
   "execution_count": 88,
   "outputs": [],
   "source": [
    "models_train = {'MODEL': ['KNN', 'KNN transform', 'SVM', 'LRegression','NAIVE BAYES'], 'ACCURACY': [KNN_scor, KNN_transform, SVM_scor, LG_scor,NB_sco]}\n",
    "model_fit = pd.DataFrame(models_train)"
   ],
   "metadata": {
    "collapsed": false,
    "pycharm": {
     "name": "#%%\n"
    }
   }
  },
  {
   "cell_type": "code",
   "execution_count": 89,
   "outputs": [
    {
     "data": {
      "text/plain": "           MODEL  ACCURACY\n0            KNN     57.62\n1  KNN transform     71.48\n2            SVM     86.58\n3    LRegression     87.06\n4    NAIVE BAYES     85.70",
      "text/html": "<div>\n<style scoped>\n    .dataframe tbody tr th:only-of-type {\n        vertical-align: middle;\n    }\n\n    .dataframe tbody tr th {\n        vertical-align: top;\n    }\n\n    .dataframe thead th {\n        text-align: right;\n    }\n</style>\n<table border=\"1\" class=\"dataframe\">\n  <thead>\n    <tr style=\"text-align: right;\">\n      <th></th>\n      <th>MODEL</th>\n      <th>ACCURACY</th>\n    </tr>\n  </thead>\n  <tbody>\n    <tr>\n      <th>0</th>\n      <td>KNN</td>\n      <td>57.62</td>\n    </tr>\n    <tr>\n      <th>1</th>\n      <td>KNN transform</td>\n      <td>71.48</td>\n    </tr>\n    <tr>\n      <th>2</th>\n      <td>SVM</td>\n      <td>86.58</td>\n    </tr>\n    <tr>\n      <th>3</th>\n      <td>LRegression</td>\n      <td>87.06</td>\n    </tr>\n    <tr>\n      <th>4</th>\n      <td>NAIVE BAYES</td>\n      <td>85.70</td>\n    </tr>\n  </tbody>\n</table>\n</div>"
     },
     "execution_count": 89,
     "metadata": {},
     "output_type": "execute_result"
    }
   ],
   "source": [
    "model_fit"
   ],
   "metadata": {
    "collapsed": false,
    "pycharm": {
     "name": "#%%\n"
    }
   }
  },
  {
   "cell_type": "code",
   "execution_count": 90,
   "outputs": [],
   "source": [
    "model_fit.to_csv('model_result.csv', index=False)"
   ],
   "metadata": {
    "collapsed": false,
    "pycharm": {
     "name": "#%%\n"
    }
   }
  },
  {
   "cell_type": "code",
   "execution_count": 91,
   "outputs": [
    {
     "data": {
      "text/plain": "           MODEL  ACCURACY\n0            KNN     57.62\n1  KNN transform     71.48\n2            SVM     86.58\n3    LRegression     87.06\n4    NAIVE BAYES     85.70",
      "text/html": "<div>\n<style scoped>\n    .dataframe tbody tr th:only-of-type {\n        vertical-align: middle;\n    }\n\n    .dataframe tbody tr th {\n        vertical-align: top;\n    }\n\n    .dataframe thead th {\n        text-align: right;\n    }\n</style>\n<table border=\"1\" class=\"dataframe\">\n  <thead>\n    <tr style=\"text-align: right;\">\n      <th></th>\n      <th>MODEL</th>\n      <th>ACCURACY</th>\n    </tr>\n  </thead>\n  <tbody>\n    <tr>\n      <th>0</th>\n      <td>KNN</td>\n      <td>57.62</td>\n    </tr>\n    <tr>\n      <th>1</th>\n      <td>KNN transform</td>\n      <td>71.48</td>\n    </tr>\n    <tr>\n      <th>2</th>\n      <td>SVM</td>\n      <td>86.58</td>\n    </tr>\n    <tr>\n      <th>3</th>\n      <td>LRegression</td>\n      <td>87.06</td>\n    </tr>\n    <tr>\n      <th>4</th>\n      <td>NAIVE BAYES</td>\n      <td>85.70</td>\n    </tr>\n  </tbody>\n</table>\n</div>"
     },
     "execution_count": 91,
     "metadata": {},
     "output_type": "execute_result"
    }
   ],
   "source": [
    "pd.read_csv('model_result.csv')"
   ],
   "metadata": {
    "collapsed": false,
    "pycharm": {
     "name": "#%%\n"
    }
   }
  },
  {
   "cell_type": "markdown",
   "source": [
    "# TEST MODEL LG"
   ],
   "metadata": {
    "collapsed": false,
    "pycharm": {
     "name": "#%% md\n"
    }
   }
  },
  {
   "cell_type": "code",
   "execution_count": null,
   "outputs": [],
   "source": [
    "import joblib"
   ],
   "metadata": {
    "collapsed": false,
    "pycharm": {
     "name": "#%%\n"
    }
   }
  },
  {
   "cell_type": "code",
   "execution_count": 49,
   "outputs": [
    {
     "name": "stdout",
     "output_type": "stream",
     "text": [
      "['']\n"
     ]
    },
    {
     "ename": "NameError",
     "evalue": "name 'vect' is not defined",
     "output_type": "error",
     "traceback": [
      "\u001B[1;31m---------------------------------------------------------------------------\u001B[0m",
      "\u001B[1;31mNameError\u001B[0m                                 Traceback (most recent call last)",
      "\u001B[1;32m<ipython-input-49-5cd0f6fd3ef1>\u001B[0m in \u001B[0;36m<module>\u001B[1;34m\u001B[0m\n\u001B[0;32m      2\u001B[0m \u001B[0mtest\u001B[0m\u001B[1;33m.\u001B[0m\u001B[0mappend\u001B[0m\u001B[1;33m(\u001B[0m\u001B[0minput\u001B[0m\u001B[1;33m(\u001B[0m\u001B[1;33m)\u001B[0m\u001B[1;33m)\u001B[0m\u001B[1;33m\u001B[0m\u001B[1;33m\u001B[0m\u001B[0m\n\u001B[0;32m      3\u001B[0m \u001B[0mprint\u001B[0m\u001B[1;33m(\u001B[0m\u001B[0mtest\u001B[0m\u001B[1;33m)\u001B[0m\u001B[1;33m\u001B[0m\u001B[1;33m\u001B[0m\u001B[0m\n\u001B[1;32m----> 4\u001B[1;33m \u001B[0mtest_vect\u001B[0m \u001B[1;33m=\u001B[0m \u001B[0mvect\u001B[0m\u001B[1;33m.\u001B[0m\u001B[0mtransform\u001B[0m\u001B[1;33m(\u001B[0m\u001B[0mtest\u001B[0m\u001B[1;33m)\u001B[0m\u001B[1;33m\u001B[0m\u001B[1;33m\u001B[0m\u001B[0m\n\u001B[0m\u001B[0;32m      5\u001B[0m \u001B[0mprint\u001B[0m\u001B[1;33m(\u001B[0m\u001B[0mtest_vect\u001B[0m\u001B[1;33m)\u001B[0m\u001B[1;33m\u001B[0m\u001B[1;33m\u001B[0m\u001B[0m\n\u001B[0;32m      6\u001B[0m \u001B[0mpredLabel\u001B[0m \u001B[1;33m=\u001B[0m \u001B[0mNB_Load\u001B[0m\u001B[1;33m.\u001B[0m\u001B[0mpredict\u001B[0m\u001B[1;33m(\u001B[0m\u001B[0mtest_vect\u001B[0m\u001B[1;33m)\u001B[0m\u001B[1;33m\u001B[0m\u001B[1;33m\u001B[0m\u001B[0m\n",
      "\u001B[1;31mNameError\u001B[0m: name 'vect' is not defined"
     ]
    }
   ],
   "source": [
    "test = []\n",
    "test.append(input())\n",
    "print(test)\n",
    "test_vect = vect.transform(test)\n",
    "print(test_vect)\n",
    "predLabel = NB_Load.predict(test_vect)\n",
    "tags = ['Negative','Positive']\n",
    "print(\"Le model à prédict que votre commentaire est \",tags[predLabel[0]])"
   ],
   "metadata": {
    "collapsed": false,
    "pycharm": {
     "name": "#%%\n"
    }
   }
  },
  {
   "cell_type": "code",
   "execution_count": null,
   "outputs": [],
   "source": [],
   "metadata": {
    "collapsed": false,
    "pycharm": {
     "name": "#%%\n"
    }
   }
  },
  {
   "cell_type": "code",
   "execution_count": null,
   "outputs": [],
   "source": [],
   "metadata": {
    "collapsed": false,
    "pycharm": {
     "name": "#%%\n"
    }
   }
  },
  {
   "cell_type": "code",
   "execution_count": null,
   "outputs": [],
   "source": [
    "test = []\n",
    "test.append(input())\n",
    "test_vect = vect.transform(test)\n",
    "predLabel = LR.predict(test_vect)\n",
    "tags = ['Negative','Positive']\n",
    "print(\"Le model à prédict que votre commentaire est \",tags[predLabel[0]])"
   ],
   "metadata": {
    "collapsed": false,
    "pycharm": {
     "name": "#%%\n"
    }
   }
  },
  {
   "cell_type": "code",
   "execution_count": null,
   "outputs": [],
   "source": [],
   "metadata": {
    "collapsed": false,
    "pycharm": {
     "name": "#%%\n"
    }
   }
  }
 ],
 "metadata": {
  "kernelspec": {
   "display_name": "Python 3",
   "language": "python",
   "name": "python3"
  },
  "language_info": {
   "codemirror_mode": {
    "name": "ipython",
    "version": 2
   },
   "file_extension": ".py",
   "mimetype": "text/x-python",
   "name": "python",
   "nbconvert_exporter": "python",
   "pygments_lexer": "ipython2",
   "version": "2.7.6"
  }
 },
 "nbformat": 4,
 "nbformat_minor": 0
}